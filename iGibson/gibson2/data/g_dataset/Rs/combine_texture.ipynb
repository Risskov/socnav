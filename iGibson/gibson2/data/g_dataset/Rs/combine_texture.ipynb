{
 "cells": [
  {
   "cell_type": "code",
   "execution_count": 3,
   "metadata": {},
   "outputs": [],
   "source": [
    "from PIL import Image\n",
    "import numpy as np\n",
    "import os"
   ]
  },
  {
   "cell_type": "code",
   "execution_count": 6,
   "metadata": {},
   "outputs": [],
   "source": [
    "grid_size = 4\n",
    "files = os.listdir('.')"
   ]
  },
  {
   "cell_type": "code",
   "execution_count": 7,
   "metadata": {},
   "outputs": [],
   "source": [
    "files = [file for file in files if file.startswith('27bd2a4f3cae42c686254fe08a9b848e') and file.endswith('jpg')]"
   ]
  },
  {
   "cell_type": "code",
   "execution_count": 8,
   "metadata": {},
   "outputs": [
    {
     "name": "stdout",
     "output_type": "stream",
     "text": [
      "27bd2a4f3cae42c686254fe08a9b848e_000.jpg\n",
      "27bd2a4f3cae42c686254fe08a9b848e_001.jpg\n",
      "27bd2a4f3cae42c686254fe08a9b848e_002.jpg\n",
      "27bd2a4f3cae42c686254fe08a9b848e_003.jpg\n",
      "27bd2a4f3cae42c686254fe08a9b848e_004.jpg\n",
      "27bd2a4f3cae42c686254fe08a9b848e_005.jpg\n",
      "27bd2a4f3cae42c686254fe08a9b848e_006.jpg\n",
      "27bd2a4f3cae42c686254fe08a9b848e_007.jpg\n",
      "27bd2a4f3cae42c686254fe08a9b848e_008.jpg\n",
      "27bd2a4f3cae42c686254fe08a9b848e_009.jpg\n"
     ]
    }
   ],
   "source": [
    "combined_img = np.zeros((grid_size * 2048, grid_size * 2048, 3))\n",
    "files = sorted(files)\n",
    "#print(files)\n",
    "for num_file,file in enumerate(files):\n",
    "    img = np.array(Image.open(file))\n",
    "    i = 3 - num_file // 4\n",
    "    j = num_file % 4\n",
    "    combined_img[i*2048: (i+1)*2048, j*2048:(j+1)*2048, :] = img\n",
    "    print(file)\n",
    "    \n",
    "    "
   ]
  },
  {
   "cell_type": "code",
   "execution_count": 9,
   "metadata": {},
   "outputs": [],
   "source": [
    "Image.fromarray(combined_img.astype(np.uint8)).save('combined.jpg')"
   ]
  },
  {
   "cell_type": "code",
   "execution_count": null,
   "metadata": {},
   "outputs": [],
   "source": []
  },
  {
   "cell_type": "code",
   "execution_count": 10,
   "metadata": {},
   "outputs": [],
   "source": [
    "vt_mtl_dict = {}\n",
    "\n",
    "with open('27bd2a4f3cae42c686254fe08a9b848e.obj') as f:\n",
    "    for line in f:\n",
    "        if line.startswith('usemtl'):\n",
    "            current_mtl = int(line[-8:-5])\n",
    "            #print(int(current_mtl))\n",
    "            \n",
    "        if line.startswith('f'):\n",
    "            face = line.strip().split()\n",
    "            for vvt in face[1:]:\n",
    "                vt_mtl_dict[int(vvt.split('/')[1])] = current_mtl\n",
    "            \n",
    "            "
   ]
  },
  {
   "cell_type": "code",
   "execution_count": 11,
   "metadata": {},
   "outputs": [],
   "source": [
    "n_vt = 0\n",
    "fo = open('test.obj', 'w')\n",
    "\n",
    "mtl_set = False\n",
    "with open('27bd2a4f3cae42c686254fe08a9b848e.obj') as f:\n",
    "    for line in f:\n",
    "        if line.startswith('usemtl'):\n",
    "            current_mtl = int(line[-8:-5])\n",
    "            #print(int(current_mtl))\n",
    "            if not mtl_set:\n",
    "                fo.write('usemtl combined\\n')\n",
    "            mtl_set = True\n",
    "        elif line.startswith('vt'):\n",
    "            n_vt += 1\n",
    "            n_mtl = vt_mtl_dict[n_vt]\n",
    "            i = n_mtl // grid_size\n",
    "            j = n_mtl % grid_size\n",
    "            _, u, v = line.strip().split()\n",
    "            u = float(u)\n",
    "            v = float(v)\n",
    "            new_u = u / grid_size + j / grid_size\n",
    "            new_v = v / grid_size + i / grid_size\n",
    "            #if n_mtl == 0:\n",
    "            fo.write('vt {} {}\\n'.format(new_u, new_v))\n",
    "            #else:\n",
    "            #    fo.write('vt {} {}\\n'.format(0, 0))\n",
    "        elif line.startswith('mtllib'):\n",
    "            fo.write('mtllib test.mtl\\n')\n",
    "        elif line.startswith('g'):\n",
    "            pass\n",
    "        else:\n",
    "            fo.write(line)\n",
    "            \n",
    "fo.close()"
   ]
  },
  {
   "cell_type": "code",
   "execution_count": 10,
   "metadata": {},
   "outputs": [
    {
     "data": {
      "text/plain": [
       "448102"
      ]
     },
     "execution_count": 10,
     "metadata": {},
     "output_type": "execute_result"
    }
   ],
   "source": [
    "n_vt"
   ]
  },
  {
   "cell_type": "code",
   "execution_count": 11,
   "metadata": {},
   "outputs": [
    {
     "ename": "NameError",
     "evalue": "name 'vt_mtl_list' is not defined",
     "output_type": "error",
     "traceback": [
      "\u001b[0;31m---------------------------------------------------------------------------\u001b[0m",
      "\u001b[0;31mNameError\u001b[0m                                 Traceback (most recent call last)",
      "\u001b[0;32m<ipython-input-11-aef017fa9c44>\u001b[0m in \u001b[0;36m<module>\u001b[0;34m\u001b[0m\n\u001b[0;32m----> 1\u001b[0;31m \u001b[0mvt_mtl_list\u001b[0m\u001b[0;34m[\u001b[0m\u001b[0;34m-\u001b[0m\u001b[0;36m1\u001b[0m\u001b[0;34m]\u001b[0m\u001b[0;34m\u001b[0m\u001b[0;34m\u001b[0m\u001b[0m\n\u001b[0m",
      "\u001b[0;31mNameError\u001b[0m: name 'vt_mtl_list' is not defined"
     ]
    }
   ],
   "source": [
    "vt_mtl_list[-1]"
   ]
  },
  {
   "cell_type": "code",
   "execution_count": null,
   "metadata": {},
   "outputs": [],
   "source": []
  },
  {
   "cell_type": "code",
   "execution_count": null,
   "metadata": {},
   "outputs": [],
   "source": []
  },
  {
   "cell_type": "code",
   "execution_count": null,
   "metadata": {},
   "outputs": [],
   "source": []
  }
 ],
 "metadata": {
  "kernelspec": {
   "display_name": "Python (gibson)",
   "language": "python",
   "name": "gibson"
  },
  "language_info": {
   "codemirror_mode": {
    "name": "ipython",
    "version": 3
   },
   "file_extension": ".py",
   "mimetype": "text/x-python",
   "name": "python",
   "nbconvert_exporter": "python",
   "pygments_lexer": "ipython3",
   "version": "3.6.8"
  }
 },
 "nbformat": 4,
 "nbformat_minor": 2
}
